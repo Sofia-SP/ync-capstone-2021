{
 "metadata": {
  "language_info": {
   "codemirror_mode": {
    "name": "ipython",
    "version": 3
   },
   "file_extension": ".py",
   "mimetype": "text/x-python",
   "name": "python",
   "nbconvert_exporter": "python",
   "pygments_lexer": "ipython3",
   "version": "3.7.10-final"
  },
  "orig_nbformat": 2,
  "kernelspec": {
   "name": "python3",
   "display_name": "Python 3.7.10 64-bit ('base': conda)",
   "metadata": {
    "interpreter": {
     "hash": "98b0a9b7b4eaaa670588a142fd0a9b87eaafe866f1db4228be72b4211d12040f"
    }
   }
  }
 },
 "nbformat": 4,
 "nbformat_minor": 2,
 "cells": [
  {
   "cell_type": "code",
   "execution_count": 1,
   "metadata": {},
   "outputs": [],
   "source": [
    "import os\n",
    "import sys\n",
    "module_path = os.path.abspath(os.path.join('..'))\n",
    "\n",
    "if module_path not in sys.path:\n",
    "    sys.path.append(module_path)"
   ]
  },
  {
   "cell_type": "code",
   "execution_count": 2,
   "metadata": {},
   "outputs": [],
   "source": [
    "import json\n",
    "from pathlib import Path\n",
    "\n",
    "import numpy as np\n",
    "\n",
    "import tensorflow as tf\n",
    "\n",
    "from phagenet import PredictionGenerator, DataGenerator\n",
    "from phagenet.preprocessing import preprocess_assemblies, preprocess_assemblies_gcp\n",
    "from phagenet.models import LSTMClassifier"
   ]
  },
  {
   "cell_type": "code",
   "execution_count": 3,
   "metadata": {},
   "outputs": [],
   "source": [
    "input_dir = Path.cwd() / '..' / 'input'\n",
    "input_dir.mkdir(exist_ok=True)\n",
    "\n",
    "output_dir = Path.cwd() / '..' / 'output'\n",
    "output_dir.mkdir(exist_ok=True)\n",
    "\n",
    "weights_dir = Path.cwd() / '..' / 'weights'\n",
    "weights_dir.mkdir(exist_ok=True)\n",
    "\n",
    "data_dir = Path.cwd() / '..' / '..' / 'prophage-tool' / 'out' / 'phageboost_output'"
   ]
  },
  {
   "cell_type": "code",
   "execution_count": 4,
   "metadata": {},
   "outputs": [
    {
     "output_type": "stream",
     "name": "stdout",
     "text": [
      "Model: \"model\"\n__________________________________________________________________________________________________\nLayer (type)                    Output Shape         Param #     Connected to                     \n==================================================================================================\nphage-7-mer-freq (InputLayer)   [(None, 16384)]      0                                            \n__________________________________________________________________________________________________\nbacteria-7-mer-freq (InputLayer [(None, 16384)]      0                                            \n__________________________________________________________________________________________________\nreshape (Reshape)               (None, 1, 16384)     0           phage-7-mer-freq[0][0]           \n__________________________________________________________________________________________________\nreshape_1 (Reshape)             (None, 1, 16384)     0           bacteria-7-mer-freq[0][0]        \n__________________________________________________________________________________________________\nbidirectional (Bidirectional)   (None, 128)          8421888     reshape[0][0]                    \n__________________________________________________________________________________________________\nbidirectional_1 (Bidirectional) (None, 128)          8421888     reshape_1[0][0]                  \n__________________________________________________________________________________________________\nconcatenate (Concatenate)       (None, 256)          0           bidirectional[0][0]              \n                                                                 bidirectional_1[0][0]            \n__________________________________________________________________________________________________\ndense (Dense)                   (None, 256)          65792       concatenate[0][0]                \n__________________________________________________________________________________________________\ndense_1 (Dense)                 (None, 64)           16448       dense[0][0]                      \n__________________________________________________________________________________________________\ndense_2 (Dense)                 (None, 16)           1040        dense_1[0][0]                    \n__________________________________________________________________________________________________\ndense_3 (Dense)                 (None, 1)            17          dense_2[0][0]                    \n==================================================================================================\nTotal params: 16,927,073\nTrainable params: 16,927,073\nNon-trainable params: 0\n__________________________________________________________________________________________________\n"
     ]
    }
   ],
   "source": [
    "k = 7\n",
    "model_name = 'lstm-64-transfer'\n",
    "\n",
    "classifier = LSTMClassifier(k, 64)\n",
    "classifier.set_checkpoint_path(weights_dir / 'lstm-64')\n",
    "classifier.load(40)\n",
    "classifier.set_checkpoint_path(weights_dir / model_name)\n",
    "classifier.model.summary()"
   ]
  },
  {
   "cell_type": "code",
   "execution_count": 5,
   "metadata": {},
   "outputs": [],
   "source": [
    "prophage_labels = {}\n",
    "prophage_interactions = []\n",
    "prophage_assemblies = {}\n",
    "\n",
    "for t in os.scandir(data_dir):\n",
    "    for a in os.scandir(t.path):\n",
    "        bact_assembly = a.name\n",
    "        for f in os.scandir(a.path):\n",
    "            if f.name.endswith('.fasta'):\n",
    "                phage_assembly = f.name.replace('.fasta', '')\n",
    "                prophage_assemblies[phage_assembly] = f.path\n",
    "                inter = f\"{phage_assembly},{bact_assembly}\"\n",
    "                prophage_interactions.append(inter)\n",
    "                prophage_labels[inter] = 1"
   ]
  },
  {
   "cell_type": "code",
   "execution_count": 6,
   "metadata": {},
   "outputs": [
    {
     "output_type": "error",
     "ename": "KeyboardInterrupt",
     "evalue": "",
     "traceback": [
      "\u001b[0;31m---------------------------------------------------------------------------\u001b[0m",
      "\u001b[0;31mKeyboardInterrupt\u001b[0m                         Traceback (most recent call last)",
      "\u001b[0;32m<ipython-input-6-4d4e36cadf50>\u001b[0m in \u001b[0;36m<module>\u001b[0;34m\u001b[0m\n\u001b[0;32m----> 1\u001b[0;31m \u001b[0mprophages\u001b[0m\u001b[0;34m,\u001b[0m \u001b[0m_\u001b[0m \u001b[0;34m=\u001b[0m \u001b[0mpreprocess_assemblies\u001b[0m\u001b[0;34m(\u001b[0m\u001b[0mk\u001b[0m\u001b[0;34m,\u001b[0m \u001b[0mprophage_assemblies\u001b[0m\u001b[0;34m,\u001b[0m \u001b[0mout_dir\u001b[0m\u001b[0;34m=\u001b[0m\u001b[0minput_dir\u001b[0m\u001b[0;34m,\u001b[0m \u001b[0mout_prefix\u001b[0m\u001b[0;34m=\u001b[0m\u001b[0;34m'prophages.capstone'\u001b[0m\u001b[0;34m)\u001b[0m\u001b[0;34m\u001b[0m\u001b[0;34m\u001b[0m\u001b[0m\n\u001b[0m",
      "\u001b[0;32m~/phagenet/phagenet/preprocessing.py\u001b[0m in \u001b[0;36mpreprocess_assemblies\u001b[0;34m(k, assembiles, out_dir, out_prefix)\u001b[0m\n\u001b[1;32m     25\u001b[0m     \u001b[0marr\u001b[0m \u001b[0;34m=\u001b[0m \u001b[0mnp\u001b[0m\u001b[0;34m.\u001b[0m\u001b[0mzeros\u001b[0m\u001b[0;34m(\u001b[0m\u001b[0msize\u001b[0m\u001b[0;34m)\u001b[0m\u001b[0;34m\u001b[0m\u001b[0;34m\u001b[0m\u001b[0m\n\u001b[1;32m     26\u001b[0m     \u001b[0;32mfor\u001b[0m \u001b[0mj\u001b[0m \u001b[0;32min\u001b[0m \u001b[0mrange\u001b[0m\u001b[0;34m(\u001b[0m\u001b[0msize\u001b[0m\u001b[0;34m)\u001b[0m\u001b[0;34m:\u001b[0m\u001b[0;34m\u001b[0m\u001b[0;34m\u001b[0m\u001b[0m\n\u001b[0;32m---> 27\u001b[0;31m         \u001b[0marr\u001b[0m\u001b[0;34m[\u001b[0m\u001b[0mj\u001b[0m\u001b[0;34m]\u001b[0m \u001b[0;34m=\u001b[0m \u001b[0mcounts\u001b[0m\u001b[0;34m.\u001b[0m\u001b[0mget\u001b[0m\u001b[0;34m(\u001b[0m\u001b[0mj\u001b[0m\u001b[0;34m)\u001b[0m\u001b[0;34m\u001b[0m\u001b[0;34m\u001b[0m\u001b[0m\n\u001b[0m\u001b[1;32m     28\u001b[0m \u001b[0;34m\u001b[0m\u001b[0m\n\u001b[1;32m     29\u001b[0m     \u001b[0mkmer_freqs\u001b[0m\u001b[0;34m[\u001b[0m\u001b[0ma\u001b[0m\u001b[0;34m]\u001b[0m \u001b[0;34m=\u001b[0m \u001b[0marr\u001b[0m\u001b[0;34m\u001b[0m\u001b[0;34m\u001b[0m\u001b[0m\n",
      "\u001b[0;31mKeyboardInterrupt\u001b[0m: "
     ]
    }
   ],
   "source": [
    "prophages, _ = preprocess_assemblies(k, prophage_assemblies, out_dir=input_dir, out_prefix='prophages.capstone')"
   ]
  },
  {
   "cell_type": "code",
   "execution_count": 6,
   "metadata": {},
   "outputs": [],
   "source": [
    "np.random.shuffle(prophage_interactions)\n",
    "ptest_set = prophage_interactions[:100]\n",
    "ptrain_set = prophage_interactions[100:]"
   ]
  },
  {
   "cell_type": "code",
   "execution_count": 7,
   "metadata": {},
   "outputs": [],
   "source": [
    "with open(input_dir / 'interactions.final.json') as f:\n",
    "    interactions = np.array(json.load(f))\n",
    "\n",
    "class_sizes = (\n",
    "    len([i for i in interactions if i[2] == '1']),\n",
    "    len([i for i in interactions if i[2] == '0'])\n",
    ")\n",
    "test_sample_split = (1000, 9000)\n",
    "\n",
    "test_idxs = np.concatenate([\n",
    "    np.random.choice(class_sizes[0], size=test_sample_split[0], replace=False),\n",
    "    np.random.choice(class_sizes[1], size=test_sample_split[1], replace=False) + class_sizes[0]\n",
    "])\n",
    "\n",
    "labels, train_interactions, test_interactions = {}, [], []\n",
    "for i, interaction in enumerate(interactions):\n",
    "    interaction_str = \"{0},{1}\".format(interaction[0], interaction[1])\n",
    "    labels[interaction_str] = int(interaction[2])\n",
    "    if i in test_idxs:\n",
    "        test_interactions.append(interaction_str)\n",
    "    else:\n",
    "        train_interactions.append(interaction_str)\n",
    "\n",
    "labels.update(prophage_labels)\n",
    "train_interactions = np.concatenate([train_interactions, ptrain_set])\n",
    "test_interactions = np.concatenate([test_interactions, ptest_set])"
   ]
  },
  {
   "cell_type": "code",
   "execution_count": 8,
   "metadata": {
    "tags": []
   },
   "outputs": [],
   "source": [
    "train_generator = DataGenerator(k, train_interactions, labels, \n",
    "    [(input_dir / 'phages.ids.npy'), (input_dir / 'prophages.capstone.ids.npy')], \n",
    "    [(input_dir / 'phages.kmer-freqs.npy'), (input_dir / 'prophages.capstone.kmer-freqs.npy')], \n",
    "    [(input_dir / 'bact.ids.npy'), (input_dir / 'bact.capstone.ids.npy')], \n",
    "    [(input_dir / 'bact.kmer-freqs.npy'), (input_dir / 'bact.capstone.kmer-freqs.npy')],\n",
    "    batch_size=128)\n",
    "\n",
    "test_generator = DataGenerator(k, test_interactions, labels, \n",
    "    [(input_dir / 'phages.ids.npy'), (input_dir / 'prophages.capstone.ids.npy')], \n",
    "    [(input_dir / 'phages.kmer-freqs.npy'), (input_dir / 'prophages.capstone.kmer-freqs.npy')], \n",
    "    [(input_dir / 'bact.ids.npy'), (input_dir / 'bact.capstone.ids.npy')], \n",
    "    [(input_dir / 'bact.kmer-freqs.npy'), (input_dir / 'bact.capstone.kmer-freqs.npy')],\n",
    "    batch_size=len(test_interactions))\n",
    "\n",
    "ptest_generator = DataGenerator(k, ptest_set, labels, (input_dir / 'prophages.capstone.ids.npy'), (input_dir / 'prophages.capstone.kmer-freqs.npy'), (input_dir / 'bact.capstone.ids.npy'), (input_dir / 'bact.capstone.kmer-freqs.npy'), batch_size=len(ptest_set))\n"
   ]
  },
  {
   "cell_type": "code",
   "execution_count": 9,
   "metadata": {},
   "outputs": [],
   "source": [
    "classifier.compile()"
   ]
  },
  {
   "cell_type": "code",
   "execution_count": 13,
   "metadata": {},
   "outputs": [
    {
     "output_type": "stream",
     "name": "stdout",
     "text": [
      "Epoch 41/60\n",
      "1491/1491 [==============================] - 67s 41ms/step - loss: 0.0270 - tp: 5965.0000 - fp: 1545.0000 - tn: 183297.0000 - fn: 41.0000 - accuracy: 0.9917 - precision: 0.7943 - recall: 0.9932 - auc: 0.9991 - val_loss: 0.0181 - val_tp: 1093.0000 - val_fp: 49.0000 - val_tn: 8951.0000 - val_fn: 7.0000 - val_accuracy: 0.9945 - val_precision: 0.9571 - val_recall: 0.9936 - val_auc: 0.9996\n",
      "Epoch 42/60\n",
      "1491/1491 [==============================] - 59s 40ms/step - loss: 0.0158 - tp: 5984.0000 - fp: 913.0000 - tn: 183929.0000 - fn: 22.0000 - accuracy: 0.9951 - precision: 0.8676 - recall: 0.9963 - auc: 0.9996 - val_loss: 0.0189 - val_tp: 1084.0000 - val_fp: 54.0000 - val_tn: 8946.0000 - val_fn: 16.0000 - val_accuracy: 0.9931 - val_precision: 0.9525 - val_recall: 0.9855 - val_auc: 0.9996\n",
      "Epoch 43/60\n",
      "1491/1491 [==============================] - 59s 39ms/step - loss: 0.0107 - tp: 5996.0000 - fp: 702.0000 - tn: 184140.0000 - fn: 10.0000 - accuracy: 0.9963 - precision: 0.8952 - recall: 0.9983 - auc: 0.9996 - val_loss: 0.0113 - val_tp: 1093.0000 - val_fp: 25.0000 - val_tn: 8975.0000 - val_fn: 7.0000 - val_accuracy: 0.9968 - val_precision: 0.9776 - val_recall: 0.9936 - val_auc: 0.9998\n",
      "Epoch 44/60\n",
      "1491/1491 [==============================] - 59s 39ms/step - loss: 0.0179 - tp: 5980.0000 - fp: 1148.0000 - tn: 183694.0000 - fn: 26.0000 - accuracy: 0.9938 - precision: 0.8389 - recall: 0.9957 - auc: 0.9994 - val_loss: 0.0131 - val_tp: 1095.0000 - val_fp: 40.0000 - val_tn: 8960.0000 - val_fn: 5.0000 - val_accuracy: 0.9955 - val_precision: 0.9648 - val_recall: 0.9955 - val_auc: 0.9994\n",
      "Epoch 45/60\n",
      "1491/1491 [==============================] - 59s 39ms/step - loss: 0.0102 - tp: 5993.0000 - fp: 675.0000 - tn: 184167.0000 - fn: 13.0000 - accuracy: 0.9964 - precision: 0.8988 - recall: 0.9978 - auc: 0.9998 - val_loss: 0.0308 - val_tp: 1090.0000 - val_fp: 83.0000 - val_tn: 8917.0000 - val_fn: 10.0000 - val_accuracy: 0.9908 - val_precision: 0.9292 - val_recall: 0.9909 - val_auc: 0.9990\n",
      "Epoch 46/60\n",
      "1491/1491 [==============================] - 59s 40ms/step - loss: 0.0121 - tp: 5990.0000 - fp: 772.0000 - tn: 184070.0000 - fn: 16.0000 - accuracy: 0.9959 - precision: 0.8858 - recall: 0.9973 - auc: 0.9996 - val_loss: 0.0243 - val_tp: 1088.0000 - val_fp: 71.0000 - val_tn: 8929.0000 - val_fn: 12.0000 - val_accuracy: 0.9918 - val_precision: 0.9387 - val_recall: 0.9891 - val_auc: 0.9990\n",
      "Epoch 47/60\n",
      "1491/1491 [==============================] - 59s 40ms/step - loss: 0.0113 - tp: 5991.0000 - fp: 806.0000 - tn: 184036.0000 - fn: 15.0000 - accuracy: 0.9957 - precision: 0.8814 - recall: 0.9975 - auc: 0.9996 - val_loss: 0.0109 - val_tp: 1091.0000 - val_fp: 36.0000 - val_tn: 8964.0000 - val_fn: 9.0000 - val_accuracy: 0.9955 - val_precision: 0.9681 - val_recall: 0.9918 - val_auc: 0.9999\n",
      "Epoch 48/60\n",
      "1491/1491 [==============================] - 59s 39ms/step - loss: 0.0138 - tp: 5988.0000 - fp: 972.0000 - tn: 183870.0000 - fn: 18.0000 - accuracy: 0.9948 - precision: 0.8603 - recall: 0.9970 - auc: 0.9997 - val_loss: 0.0098 - val_tp: 1091.0000 - val_fp: 21.0000 - val_tn: 8979.0000 - val_fn: 9.0000 - val_accuracy: 0.9970 - val_precision: 0.9811 - val_recall: 0.9918 - val_auc: 0.9989\n",
      "Epoch 49/60\n",
      "1491/1491 [==============================] - 59s 39ms/step - loss: 0.0105 - tp: 5989.0000 - fp: 726.0000 - tn: 184116.0000 - fn: 17.0000 - accuracy: 0.9961 - precision: 0.8919 - recall: 0.9972 - auc: 0.9997 - val_loss: 0.0080 - val_tp: 1095.0000 - val_fp: 17.0000 - val_tn: 8983.0000 - val_fn: 5.0000 - val_accuracy: 0.9978 - val_precision: 0.9847 - val_recall: 0.9955 - val_auc: 0.9991\n",
      "Epoch 50/60\n",
      "1491/1491 [==============================] - 59s 39ms/step - loss: 0.0091 - tp: 5995.0000 - fp: 706.0000 - tn: 184136.0000 - fn: 11.0000 - accuracy: 0.9962 - precision: 0.8946 - recall: 0.9982 - auc: 0.9997 - val_loss: 0.0120 - val_tp: 1098.0000 - val_fp: 36.0000 - val_tn: 8964.0000 - val_fn: 2.0000 - val_accuracy: 0.9962 - val_precision: 0.9683 - val_recall: 0.9982 - val_auc: 0.9989\n",
      "Epoch 51/60\n",
      "1491/1491 [==============================] - 59s 40ms/step - loss: 0.0084 - tp: 5993.0000 - fp: 605.0000 - tn: 184237.0000 - fn: 13.0000 - accuracy: 0.9968 - precision: 0.9083 - recall: 0.9978 - auc: 0.9998 - val_loss: 0.0082 - val_tp: 1096.0000 - val_fp: 22.0000 - val_tn: 8978.0000 - val_fn: 4.0000 - val_accuracy: 0.9974 - val_precision: 0.9803 - val_recall: 0.9964 - val_auc: 0.9993\n",
      "Epoch 52/60\n",
      "1491/1491 [==============================] - 59s 40ms/step - loss: 0.0089 - tp: 5993.0000 - fp: 550.0000 - tn: 184292.0000 - fn: 13.0000 - accuracy: 0.9970 - precision: 0.9159 - recall: 0.9978 - auc: 0.9997 - val_loss: 0.0107 - val_tp: 1093.0000 - val_fp: 26.0000 - val_tn: 8974.0000 - val_fn: 7.0000 - val_accuracy: 0.9967 - val_precision: 0.9768 - val_recall: 0.9936 - val_auc: 0.9993\n",
      "Epoch 53/60\n",
      "1491/1491 [==============================] - 59s 40ms/step - loss: 0.0076 - tp: 5994.0000 - fp: 503.0000 - tn: 184339.0000 - fn: 12.0000 - accuracy: 0.9973 - precision: 0.9226 - recall: 0.9980 - auc: 0.9998 - val_loss: 0.0091 - val_tp: 1085.0000 - val_fp: 7.0000 - val_tn: 8993.0000 - val_fn: 15.0000 - val_accuracy: 0.9978 - val_precision: 0.9936 - val_recall: 0.9864 - val_auc: 0.9986\n",
      "Epoch 54/60\n",
      "1491/1491 [==============================] - 58s 39ms/step - loss: 0.0094 - tp: 5992.0000 - fp: 638.0000 - tn: 184205.0000 - fn: 13.0000 - accuracy: 0.9966 - precision: 0.9038 - recall: 0.9978 - auc: 0.9998 - val_loss: 0.0067 - val_tp: 1093.0000 - val_fp: 11.0000 - val_tn: 8989.0000 - val_fn: 7.0000 - val_accuracy: 0.9982 - val_precision: 0.9900 - val_recall: 0.9936 - val_auc: 0.9995\n",
      "Epoch 55/60\n",
      "1491/1491 [==============================] - 59s 40ms/step - loss: 0.0111 - tp: 5989.0000 - fp: 662.0000 - tn: 184180.0000 - fn: 17.0000 - accuracy: 0.9964 - precision: 0.9005 - recall: 0.9972 - auc: 0.9997 - val_loss: 0.0406 - val_tp: 1090.0000 - val_fp: 145.0000 - val_tn: 8855.0000 - val_fn: 10.0000 - val_accuracy: 0.9847 - val_precision: 0.8826 - val_recall: 0.9909 - val_auc: 0.9994\n",
      "Epoch 56/60\n",
      "1491/1491 [==============================] - 59s 39ms/step - loss: 0.0081 - tp: 5996.0000 - fp: 530.0000 - tn: 184313.0000 - fn: 9.0000 - accuracy: 0.9972 - precision: 0.9188 - recall: 0.9985 - auc: 0.9998 - val_loss: 0.0105 - val_tp: 1089.0000 - val_fp: 22.0000 - val_tn: 8978.0000 - val_fn: 11.0000 - val_accuracy: 0.9967 - val_precision: 0.9802 - val_recall: 0.9900 - val_auc: 0.9990\n",
      "Epoch 57/60\n",
      "1491/1491 [==============================] - 59s 39ms/step - loss: 0.0047 - tp: 6004.0000 - fp: 314.0000 - tn: 184528.0000 - fn: 2.0000 - accuracy: 0.9983 - precision: 0.9503 - recall: 0.9997 - auc: 0.9998 - val_loss: 0.0116 - val_tp: 1092.0000 - val_fp: 29.0000 - val_tn: 8971.0000 - val_fn: 8.0000 - val_accuracy: 0.9963 - val_precision: 0.9741 - val_recall: 0.9927 - val_auc: 0.9994\n",
      "Epoch 58/60\n",
      "1491/1491 [==============================] - 59s 39ms/step - loss: 0.0118 - tp: 5985.0000 - fp: 797.0000 - tn: 184045.0000 - fn: 21.0000 - accuracy: 0.9957 - precision: 0.8825 - recall: 0.9965 - auc: 0.9997 - val_loss: 0.0650 - val_tp: 1094.0000 - val_fp: 132.0000 - val_tn: 8868.0000 - val_fn: 6.0000 - val_accuracy: 0.9863 - val_precision: 0.8923 - val_recall: 0.9945 - val_auc: 0.9961\n",
      "Epoch 59/60\n",
      "1491/1491 [==============================] - 58s 39ms/step - loss: 0.0060 - tp: 5998.0000 - fp: 443.0000 - tn: 184399.0000 - fn: 8.0000 - accuracy: 0.9976 - precision: 0.9312 - recall: 0.9987 - auc: 0.9999 - val_loss: 0.0060 - val_tp: 1094.0000 - val_fp: 14.0000 - val_tn: 8986.0000 - val_fn: 6.0000 - val_accuracy: 0.9980 - val_precision: 0.9874 - val_recall: 0.9945 - val_auc: 0.9998\n",
      "Epoch 60/60\n",
      "1491/1491 [==============================] - 59s 39ms/step - loss: 0.0060 - tp: 5996.0000 - fp: 386.0000 - tn: 184456.0000 - fn: 10.0000 - accuracy: 0.9979 - precision: 0.9395 - recall: 0.9983 - auc: 0.9998 - val_loss: 0.0095 - val_tp: 1082.0000 - val_fp: 15.0000 - val_tn: 8985.0000 - val_fn: 18.0000 - val_accuracy: 0.9967 - val_precision: 0.9863 - val_recall: 0.9836 - val_auc: 0.9986\n"
     ]
    }
   ],
   "source": [
    "classifier.fit(20, train_generator, log_dir=(output_dir / \"logs\" / model_name), validation_data=test_generator[0])"
   ]
  },
  {
   "cell_type": "code",
   "execution_count": null,
   "metadata": {},
   "outputs": [],
   "source": []
  }
 ]
}