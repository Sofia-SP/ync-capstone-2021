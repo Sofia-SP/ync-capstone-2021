{
 "metadata": {
  "language_info": {
   "codemirror_mode": {
    "name": "ipython",
    "version": 3
   },
   "file_extension": ".py",
   "mimetype": "text/x-python",
   "name": "python",
   "nbconvert_exporter": "python",
   "pygments_lexer": "ipython3",
   "version": "3.7.10-final"
  },
  "orig_nbformat": 2,
  "kernelspec": {
   "name": "python3",
   "display_name": "Python 3.7.10 64-bit ('base': conda)",
   "metadata": {
    "interpreter": {
     "hash": "98b0a9b7b4eaaa670588a142fd0a9b87eaafe866f1db4228be72b4211d12040f"
    }
   }
  }
 },
 "nbformat": 4,
 "nbformat_minor": 2,
 "cells": [
  {
   "cell_type": "code",
   "execution_count": 1,
   "metadata": {},
   "outputs": [],
   "source": [
    "import os\n",
    "import sys\n",
    "module_path = os.path.abspath(os.path.join('..'))\n",
    "\n",
    "if module_path not in sys.path:\n",
    "    sys.path.append(module_path)"
   ]
  },
  {
   "cell_type": "code",
   "execution_count": 2,
   "metadata": {},
   "outputs": [],
   "source": [
    "import json\n",
    "from pathlib import Path\n",
    "\n",
    "import numpy as np\n",
    "\n",
    "import tensorflow as tf\n",
    "\n",
    "from phagenet import PredictionGenerator\n",
    "from phagenet.preprocessing import preprocess_assemblies, preprocess_assemblies_gcp\n",
    "from phagenet.models import LSTMClassifier"
   ]
  },
  {
   "cell_type": "code",
   "execution_count": 3,
   "metadata": {},
   "outputs": [],
   "source": [
    "input_dir = Path.cwd() / '..' / 'input'\n",
    "input_dir.mkdir(exist_ok=True)\n",
    "\n",
    "output_dir = Path.cwd() / '..' / 'output'\n",
    "output_dir.mkdir(exist_ok=True)\n",
    "\n",
    "weights_dir = Path.cwd() / '..' / 'weights'\n",
    "weights_dir.mkdir(exist_ok=True)\n",
    "\n",
    "data_dir = Path.cwd() / '..' / '..' / 'prophage-tool' / 'data'"
   ]
  },
  {
   "cell_type": "code",
   "execution_count": 4,
   "metadata": {},
   "outputs": [
    {
     "output_type": "stream",
     "name": "stdout",
     "text": [
      "Model: \"model\"\n__________________________________________________________________________________________________\nLayer (type)                    Output Shape         Param #     Connected to                     \n==================================================================================================\nphage-7-mer-freq (InputLayer)   [(None, 16384)]      0                                            \n__________________________________________________________________________________________________\nbacteria-7-mer-freq (InputLayer [(None, 16384)]      0                                            \n__________________________________________________________________________________________________\nreshape (Reshape)               (None, 1, 16384)     0           phage-7-mer-freq[0][0]           \n__________________________________________________________________________________________________\nreshape_1 (Reshape)             (None, 1, 16384)     0           bacteria-7-mer-freq[0][0]        \n__________________________________________________________________________________________________\nbidirectional (Bidirectional)   (None, 128)          8421888     reshape[0][0]                    \n__________________________________________________________________________________________________\nbidirectional_1 (Bidirectional) (None, 128)          8421888     reshape_1[0][0]                  \n__________________________________________________________________________________________________\nconcatenate (Concatenate)       (None, 256)          0           bidirectional[0][0]              \n                                                                 bidirectional_1[0][0]            \n__________________________________________________________________________________________________\ndense (Dense)                   (None, 256)          65792       concatenate[0][0]                \n__________________________________________________________________________________________________\ndense_1 (Dense)                 (None, 64)           16448       dense[0][0]                      \n__________________________________________________________________________________________________\ndense_2 (Dense)                 (None, 16)           1040        dense_1[0][0]                    \n__________________________________________________________________________________________________\ndense_3 (Dense)                 (None, 1)            17          dense_2[0][0]                    \n==================================================================================================\nTotal params: 16,927,073\nTrainable params: 16,927,073\nNon-trainable params: 0\n__________________________________________________________________________________________________\n"
     ]
    }
   ],
   "source": [
    "k = 7\n",
    "model_name = 'lstm-64-transfer'\n",
    "\n",
    "classifier = LSTMClassifier(k, 64)\n",
    "classifier.set_checkpoint_path(weights_dir / model_name)\n",
    "classifier.load(40)\n",
    "classifier.model.summary()"
   ]
  },
  {
   "cell_type": "code",
   "execution_count": 6,
   "metadata": {},
   "outputs": [],
   "source": [
    "taxids = {}\n",
    "bact_assemblies = {}\n",
    "\n",
    "for entry in os.scandir(data_dir):\n",
    "    fasta_dir = Path(entry.path, 'fasta')\n",
    "    if entry.is_dir() and fasta_dir.exists():\n",
    "        taxid = entry.name\n",
    "        assemblies = []\n",
    "        for assembly in os.scandir(fasta_dir):\n",
    "            bact_assemblies[assembly.name] = assembly.path\n",
    "            taxids[assembly.name] = taxid"
   ]
  },
  {
   "cell_type": "code",
   "execution_count": 5,
   "metadata": {},
   "outputs": [],
   "source": [
    "phages = np.load(input_dir / 'phages.ids.npy')\n",
    "bact = np.load(input_dir / 'bact.capstone.ids.npy')"
   ]
  },
  {
   "cell_type": "code",
   "execution_count": 7,
   "metadata": {},
   "outputs": [
    {
     "output_type": "error",
     "ename": "KeyboardInterrupt",
     "evalue": "",
     "traceback": [
      "\u001b[0;31m---------------------------------------------------------------------------\u001b[0m",
      "\u001b[0;31mKeyboardInterrupt\u001b[0m                         Traceback (most recent call last)",
      "\u001b[0;32m<ipython-input-7-154edaa914f1>\u001b[0m in \u001b[0;36m<module>\u001b[0;34m\u001b[0m\n\u001b[0;32m----> 1\u001b[0;31m \u001b[0mbact\u001b[0m\u001b[0;34m,\u001b[0m \u001b[0m_\u001b[0m \u001b[0;34m=\u001b[0m \u001b[0mpreprocess_assemblies\u001b[0m\u001b[0;34m(\u001b[0m\u001b[0mk\u001b[0m\u001b[0;34m,\u001b[0m \u001b[0mbact_assemblies\u001b[0m\u001b[0;34m,\u001b[0m \u001b[0mout_dir\u001b[0m\u001b[0;34m=\u001b[0m\u001b[0minput_dir\u001b[0m\u001b[0;34m,\u001b[0m \u001b[0mout_prefix\u001b[0m\u001b[0;34m=\u001b[0m\u001b[0;34m'bact.capstone'\u001b[0m\u001b[0;34m)\u001b[0m\u001b[0;34m\u001b[0m\u001b[0;34m\u001b[0m\u001b[0m\n\u001b[0m",
      "\u001b[0;32m~/phagenet/phagenet/preprocessing.py\u001b[0m in \u001b[0;36mpreprocess_assemblies\u001b[0;34m(k, assembiles, out_dir, out_prefix)\u001b[0m\n\u001b[1;32m     21\u001b[0m       \u001b[0;32mfor\u001b[0m \u001b[0mf\u001b[0m \u001b[0;32min\u001b[0m \u001b[0mos\u001b[0m\u001b[0;34m.\u001b[0m\u001b[0mscandir\u001b[0m\u001b[0;34m(\u001b[0m\u001b[0mp\u001b[0m\u001b[0;34m)\u001b[0m\u001b[0;34m:\u001b[0m\u001b[0;34m\u001b[0m\u001b[0;34m\u001b[0m\u001b[0m\n\u001b[1;32m     22\u001b[0m         \u001b[0mseq\u001b[0m \u001b[0;34m=\u001b[0m \u001b[0mskbio\u001b[0m\u001b[0;34m.\u001b[0m\u001b[0mDNA\u001b[0m\u001b[0;34m.\u001b[0m\u001b[0mread\u001b[0m\u001b[0;34m(\u001b[0m\u001b[0mf\u001b[0m\u001b[0;34m.\u001b[0m\u001b[0mpath\u001b[0m\u001b[0;34m,\u001b[0m \u001b[0mformat\u001b[0m\u001b[0;34m=\u001b[0m\u001b[0;34m'fasta'\u001b[0m\u001b[0;34m)\u001b[0m\u001b[0;34m\u001b[0m\u001b[0;34m\u001b[0m\u001b[0m\n\u001b[0;32m---> 23\u001b[0;31m         \u001b[0mcounts\u001b[0m\u001b[0;34m.\u001b[0m\u001b[0mconsume\u001b[0m\u001b[0;34m(\u001b[0m\u001b[0mstr\u001b[0m\u001b[0;34m(\u001b[0m\u001b[0mseq\u001b[0m\u001b[0;34m)\u001b[0m\u001b[0;34m)\u001b[0m\u001b[0;34m\u001b[0m\u001b[0;34m\u001b[0m\u001b[0m\n\u001b[0m\u001b[1;32m     24\u001b[0m \u001b[0;34m\u001b[0m\u001b[0m\n\u001b[1;32m     25\u001b[0m     \u001b[0marr\u001b[0m \u001b[0;34m=\u001b[0m \u001b[0mnp\u001b[0m\u001b[0;34m.\u001b[0m\u001b[0mzeros\u001b[0m\u001b[0;34m(\u001b[0m\u001b[0msize\u001b[0m\u001b[0;34m)\u001b[0m\u001b[0;34m\u001b[0m\u001b[0;34m\u001b[0m\u001b[0m\n",
      "\u001b[0;31mKeyboardInterrupt\u001b[0m: "
     ]
    }
   ],
   "source": [
    "bact, _ = preprocess_assemblies(k, bact_assemblies, out_dir=input_dir, out_prefix='bact.capstone')"
   ]
  },
  {
   "cell_type": "code",
   "execution_count": 7,
   "metadata": {},
   "outputs": [],
   "source": [
    "interactions = []\n",
    "for b in bact:\n",
    "    for p in phages:\n",
    "        interactions.append(f\"{p},{b}\")"
   ]
  },
  {
   "cell_type": "code",
   "execution_count": 10,
   "metadata": {},
   "outputs": [],
   "source": [
    "generator = PredictionGenerator(k, interactions, (input_dir / 'phages.ids.npy'), (input_dir / 'phages.kmer-freqs.npy'), (input_dir / 'bact.capstone.ids.npy'), (input_dir / 'bact.capstone.kmer-freqs.npy'), batch_size=512)"
   ]
  },
  {
   "cell_type": "code",
   "execution_count": 11,
   "metadata": {},
   "outputs": [
    {
     "output_type": "stream",
     "name": "stdout",
     "text": [
      "9464/9464 [==============================] - 1335s 141ms/step\n"
     ]
    }
   ],
   "source": [
    "predictions = classifier.model.predict(generator, verbose=1)"
   ]
  },
  {
   "cell_type": "code",
   "execution_count": 12,
   "metadata": {},
   "outputs": [],
   "source": [
    "import pandas as pd\n",
    "\n",
    "p_col, b_col, ba_col, i_col = [], [], [], []\n",
    "for inter, pred in zip(interactions, predictions):\n",
    "    p, b = inter.split(',')\n",
    "    p_col.append(p)\n",
    "    b_col.append(taxids[b])\n",
    "    ba_col.append(b)\n",
    "    i_col.append(pred)\n",
    "\n",
    "results = pd.DataFrame({\n",
    "    'bacteria': b_col,\n",
    "    'bacteria_assembly': ba_col,\n",
    "    'phage': p_col,\n",
    "    'model_output': i_col\n",
    "})\n",
    "results.model_output = results.model_output.astype(float)\n",
    "results.to_csv(output_dir / 'results.post.csv', index=False)\n",
    "\n"
   ]
  },
  {
   "cell_type": "code",
   "execution_count": 21,
   "metadata": {},
   "outputs": [],
   "source": [
    "results.model_output = results.model_output.astype(float)"
   ]
  },
  {
   "cell_type": "code",
   "execution_count": 23,
   "metadata": {},
   "outputs": [],
   "source": [
    "results.to_csv(output_dir / 'results.all.csv', index=False)"
   ]
  },
  {
   "cell_type": "code",
   "execution_count": 26,
   "metadata": {},
   "outputs": [],
   "source": [
    "results['bacteria'] = results.apply(lambda x: taxids[x.bacteria_assembly], axis=1)"
   ]
  },
  {
   "cell_type": "code",
   "execution_count": 28,
   "metadata": {},
   "outputs": [],
   "source": [
    "results.to_csv(output_dir / 'results.all.csv', index=False)"
   ]
  },
  {
   "cell_type": "code",
   "execution_count": 30,
   "metadata": {},
   "outputs": [
    {
     "output_type": "execute_result",
     "data": {
      "text/plain": [
       "bacteria\n",
       "1273132     20\n",
       "234        116\n",
       "28105      115\n",
       "309868      53\n",
       "34020       30\n",
       "34021       41\n",
       "357        119\n",
       "379        128\n",
       "556287      30\n",
       "744859      11\n",
       "773        160\n",
       "953        204\n",
       "dtype: int64"
      ]
     },
     "metadata": {},
     "execution_count": 30
    }
   ],
   "source": [
    "results[results.model_output > 0.9].groupby('bacteria').apply(lambda x: len(x.phage.unique()))"
   ]
  },
  {
   "cell_type": "code",
   "execution_count": 10,
   "metadata": {},
   "outputs": [],
   "source": [
    "results_pre = pd.read_csv(output_dir / 'results.pre.csv')\n",
    "results_post = pd.read_csv(output_dir / 'results.post.csv')"
   ]
  },
  {
   "cell_type": "code",
   "execution_count": 11,
   "metadata": {},
   "outputs": [],
   "source": [
    "results_all = results_pre.merge(results_post, on=['bacteria','bacteria_assembly', 'phage'], suffixes=['_pre', '_post'])"
   ]
  },
  {
   "cell_type": "code",
   "execution_count": 12,
   "metadata": {},
   "outputs": [],
   "source": [
    "results_all.to_csv(output_dir / 'results.all.csv', index=False)"
   ]
  },
  {
   "cell_type": "code",
   "execution_count": 4,
   "metadata": {},
   "outputs": [],
   "source": [
    "import pandas as pd\n",
    "results_all = pd.read_csv(output_dir / 'results.all.csv')"
   ]
  },
  {
   "cell_type": "code",
   "execution_count": 16,
   "metadata": {},
   "outputs": [
    {
     "output_type": "execute_result",
     "data": {
      "text/plain": [
       "         bacteria bacteria_assembly    phage  model_output_pre  \\\n",
       "10516      309868   GCA_000350385.1    35238          0.993997   \n",
       "19616      309868   GCA_000496595.1  2693670          0.901043   \n",
       "21682      309868   GCA_000496595.1    35238          0.994026   \n",
       "22496       34020   GCA_001021085.1  1072683          0.970320   \n",
       "22607       34020   GCA_001021085.1  1105171          0.948981   \n",
       "...           ...               ...      ...               ...   \n",
       "4835776    744859   GCA_003045065.1  1334243          0.924859   \n",
       "4838703    744859   GCA_003045065.1  2041382          0.981830   \n",
       "4843254    744859   GCA_003045065.1  2693370          0.966579   \n",
       "4843412    744859   GCA_003045065.1  2694060          0.939844   \n",
       "4845394    744859   GCA_003045065.1    35238          0.995574   \n",
       "\n",
       "         model_output_post  \n",
       "10516             0.999632  \n",
       "19616             0.901884  \n",
       "21682             0.999630  \n",
       "22496             0.999951  \n",
       "22607             0.999997  \n",
       "...                    ...  \n",
       "4835776           0.999837  \n",
       "4838703           0.934536  \n",
       "4843254           0.999384  \n",
       "4843412           0.962707  \n",
       "4845394           0.996648  \n",
       "\n",
       "[28326 rows x 5 columns]"
      ],
      "text/html": "<div>\n<style scoped>\n    .dataframe tbody tr th:only-of-type {\n        vertical-align: middle;\n    }\n\n    .dataframe tbody tr th {\n        vertical-align: top;\n    }\n\n    .dataframe thead th {\n        text-align: right;\n    }\n</style>\n<table border=\"1\" class=\"dataframe\">\n  <thead>\n    <tr style=\"text-align: right;\">\n      <th></th>\n      <th>bacteria</th>\n      <th>bacteria_assembly</th>\n      <th>phage</th>\n      <th>model_output_pre</th>\n      <th>model_output_post</th>\n    </tr>\n  </thead>\n  <tbody>\n    <tr>\n      <th>10516</th>\n      <td>309868</td>\n      <td>GCA_000350385.1</td>\n      <td>35238</td>\n      <td>0.993997</td>\n      <td>0.999632</td>\n    </tr>\n    <tr>\n      <th>19616</th>\n      <td>309868</td>\n      <td>GCA_000496595.1</td>\n      <td>2693670</td>\n      <td>0.901043</td>\n      <td>0.901884</td>\n    </tr>\n    <tr>\n      <th>21682</th>\n      <td>309868</td>\n      <td>GCA_000496595.1</td>\n      <td>35238</td>\n      <td>0.994026</td>\n      <td>0.999630</td>\n    </tr>\n    <tr>\n      <th>22496</th>\n      <td>34020</td>\n      <td>GCA_001021085.1</td>\n      <td>1072683</td>\n      <td>0.970320</td>\n      <td>0.999951</td>\n    </tr>\n    <tr>\n      <th>22607</th>\n      <td>34020</td>\n      <td>GCA_001021085.1</td>\n      <td>1105171</td>\n      <td>0.948981</td>\n      <td>0.999997</td>\n    </tr>\n    <tr>\n      <th>...</th>\n      <td>...</td>\n      <td>...</td>\n      <td>...</td>\n      <td>...</td>\n      <td>...</td>\n    </tr>\n    <tr>\n      <th>4835776</th>\n      <td>744859</td>\n      <td>GCA_003045065.1</td>\n      <td>1334243</td>\n      <td>0.924859</td>\n      <td>0.999837</td>\n    </tr>\n    <tr>\n      <th>4838703</th>\n      <td>744859</td>\n      <td>GCA_003045065.1</td>\n      <td>2041382</td>\n      <td>0.981830</td>\n      <td>0.934536</td>\n    </tr>\n    <tr>\n      <th>4843254</th>\n      <td>744859</td>\n      <td>GCA_003045065.1</td>\n      <td>2693370</td>\n      <td>0.966579</td>\n      <td>0.999384</td>\n    </tr>\n    <tr>\n      <th>4843412</th>\n      <td>744859</td>\n      <td>GCA_003045065.1</td>\n      <td>2694060</td>\n      <td>0.939844</td>\n      <td>0.962707</td>\n    </tr>\n    <tr>\n      <th>4845394</th>\n      <td>744859</td>\n      <td>GCA_003045065.1</td>\n      <td>35238</td>\n      <td>0.995574</td>\n      <td>0.996648</td>\n    </tr>\n  </tbody>\n</table>\n<p>28326 rows × 5 columns</p>\n</div>"
     },
     "metadata": {},
     "execution_count": 16
    }
   ],
   "source": [
    "results_all[(results_all.model_output_post > 0.9) & (results_all.model_output_pre > 0.9)]"
   ]
  },
  {
   "cell_type": "code",
   "execution_count": 8,
   "metadata": {},
   "outputs": [
    {
     "output_type": "execute_result",
     "data": {
      "text/plain": [
       "0.10409932620581669"
      ]
     },
     "metadata": {},
     "execution_count": 8
    }
   ],
   "source": [
    "np.sqrt(np.power(results_all.model_output_post - results_all.model_output_pre, 2).mean())"
   ]
  },
  {
   "cell_type": "code",
   "execution_count": 9,
   "metadata": {},
   "outputs": [],
   "source": [
    "# def process_results_by_bact(res):\n",
    "#     res[res.model_output_pre]\n",
    "    \n",
    "results_all.groupby('bacteria').apply(lambda x: pd.DataFrame(\n",
    "    {\n",
    "        # 'unique_phages_pre': x[x.model_output_pre > 0.9].phage.unique(),\n",
    "        # 'unique_phages_post': x[x.model_output_post > 0.9].phage.unique(),\n",
    "        'unique_phages_overlap': x[(x.model_output_pre > 0.9) & (x.model_output_post > 0.9)].phage.unique(),\n",
    "        'model_ou': x[(x.model_output_pre > 0.9) & (x.model_output_post > 0.9)].phage.unique(),\n",
    "    }\n",
    ")).reset_index().drop(columns=['level_1']).to_csv(output_dir / 'results.unique-phages-overlap.csv', index=False)"
   ]
  },
  {
   "cell_type": "code",
   "execution_count": null,
   "metadata": {},
   "outputs": [],
   "source": []
  }
 ]
}